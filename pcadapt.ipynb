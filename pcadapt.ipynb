{
  "nbformat": 4,
  "nbformat_minor": 0,
  "metadata": {
    "colab": {
      "provenance": [],
      "toc_visible": true,
      "authorship_tag": "ABX9TyOyMXsq9cI41imeGDidABnR",
      "include_colab_link": true
    },
    "kernelspec": {
      "name": "python3",
      "display_name": "Python 3"
    },
    "language_info": {
      "name": "python"
    }
  },
  "cells": [
    {
      "cell_type": "markdown",
      "metadata": {
        "id": "view-in-github",
        "colab_type": "text"
      },
      "source": [
        "<a href=\"https://colab.research.google.com/github/evainnocente/537-project/blob/main/pcadapt.ipynb\" target=\"_parent\"><img src=\"https://colab.research.google.com/assets/colab-badge.svg\" alt=\"Open In Colab\"/></a>"
      ]
    },
    {
      "cell_type": "markdown",
      "source": [
        "# pcadapt"
      ],
      "metadata": {
        "id": "sg-qxRcZtmEf"
      }
    },
    {
      "cell_type": "markdown",
      "source": [
        "creating bed files to analyse with pcadapt- one for non survivors and one for survivors and immune responders\n",
        "\n",
        "to get the vcf for each group: merge all the individual sample vcfs from each group"
      ],
      "metadata": {
        "id": "cf-exVydtlIU"
      }
    },
    {
      "cell_type": "code",
      "source": [
        "plink --allow-extra-chr --double-id --vcf NSvariants.vcf --make-bed --out NSvariants"
      ],
      "metadata": {
        "id": "jK4BSlqTtuQa"
      },
      "execution_count": null,
      "outputs": []
    },
    {
      "cell_type": "markdown",
      "source": [
        "Pcadapt (following this tutorial in R:https://bcm-uga.github.io/pcadapt/articles/pcadapt.html)"
      ],
      "metadata": {
        "id": "Ta2keSbquL8L"
      }
    },
    {
      "cell_type": "code",
      "execution_count": null,
      "metadata": {
        "id": "SPDzjzn0tjIZ"
      },
      "outputs": [],
      "source": [
        "```{r}\n",
        "library(pcadapt)\n",
        "\n",
        "path_to_file <- \"C:/Users/evain/OneDrive - Queen's University/university/537/Population diversity analyses/NSvariants.bed\"\n",
        "\n",
        "data<-read.pcadapt(path_to_file, type = \"bed\")\n",
        "x <- pcadapt(input = data, K=4)\n",
        "\n",
        "#screeplot says first 2 PCs are best-retain pcs to left of straight line according to Cattell's rule\n",
        "plot(x, option = \"screeplot\")\n",
        "\n",
        "#making x have optimal number of PCS (2)- rename to y\n",
        "y<- pcadapt(input=data, K = 2)\n",
        "summary(y)\n",
        "y$pvalues\n",
        "\n",
        "#score plot with first 2 PCs\n",
        "plot(y, option = \"scores\")\n",
        "\n",
        "#with PC 3 and 4- not as good\n",
        "plot(x, i = 3, j = 4, option = \"scores\")\n",
        "\n",
        "#manhattan plot\n",
        "plot(y , option = \"manhattan\")\n",
        "\n",
        "#qq plot- try with x and y\n",
        "plot(y, option = \"qqplot\")\n",
        "\n",
        "#if (!require(\"BiocManager\", quietly = TRUE))\n",
        "    #install.packages(\"BiocManager\")\n",
        "\n",
        "BiocManager::install(\"qvalue\")\n",
        "\n",
        "library(qvalue)\n",
        "qval <- qvalue(y$pvalues)$qvalues\n",
        "alpha <- 0.05 #in the tutorial they use 0.1- what value of alpha is best?\n",
        "outliers <- which(qval < alpha)\n",
        "length(NSoutliers)\n",
        "NSoutliers<-outliers\n",
        "\n",
        "#try with bonferroni correction- fewer outliers\n",
        "padj <- p.adjust(y$pvalues,method=\"bonferroni\")\n",
        "alpha <- 0.05\n",
        "outliers <- which(padj < alpha)\n",
        "length(outliers)\n",
        "\n",
        "length(qval)\n",
        "\n",
        "print(NSoutliers)\n",
        "\n",
        "NSoutliers<-as.data.frame(NSoutliers)\n",
        "NSoutliers\n",
        "write.csv(NSoutliers,file=\"NSoutliers.csv\")\n",
        "outliers\n",
        "\n",
        "#repeat for survivors and immune responders\n",
        "```"
      ]
    },
    {
      "cell_type": "markdown",
      "source": [
        "Narrowing down the list of outliers to TLR outliers only\n",
        "\n",
        "Basically the list of outliers created by pcadapt is a list of the lines in the bim file that contain significant outliers- e.g. if the pcadapt outliers say 2, 4, 9 then lines 2, 4, and 9 of the bim file have the outlying snp- so I just matched them but of course there are outliers outside of TLRs, so I first removed chromosomes that don't have TLRs. Then I looked through the lists manually and cross referenced them with the TLR positions I got from the common eider annotation, and kept only the outliers that fell within TLRs.\n",
        "\n",
        "TLR positions:\n",
        "\n",
        "tlr1a SUPER_4:53,881,681-53,884,137\n",
        "\n",
        "tlr1b SUPER_4:53,873,395-53,875,356\n",
        "\n",
        "TLR2A: SUPER_4:32,243,726-32,250,107\n",
        "TLR2B: SUPER_4:32,234,631-32,240,982\n",
        "\n",
        "TLR3: SUPER_4:20,097,425-20,107,088\n",
        "\n",
        "tlr4 SUPER_18:8,037,993-8,042,694\n",
        "\n",
        "tlr5 SUPER_3:95,457,095-95,459,677\n",
        "\n",
        "TLR7: SUPER_1:77,565,800-77,578,017\n",
        "\n",
        "TLR15: SUPER_3:116,325,458-116,332,055\n",
        "\n",
        "TLR21: SUPER_29:1,577,922-1,588,503"
      ],
      "metadata": {
        "id": "UqsO55nNvNDF"
      }
    },
    {
      "cell_type": "code",
      "source": [
        "tr '\\r' '\\n' < SIRoutliers.csv > SIRoutliers_unix.csv # corrects line ending characters or something like that so that we can search through it\n",
        "awk 'FNR==NR{line[$1]; next} FNR in line' SIRoutliers_unix.csv SIRvariants.bim > SIRoutliervariants.txt #the bim file was created when we made the bed file and is a list of all snps\n",
        "sed '/^SUPER_2/ d' <  SIRoutliervariantsTLRsonly.txt > no2SIR.txt #removed all irrelevant chromosomes with this"
      ],
      "metadata": {
        "id": "L0s7aMHZvTJq"
      },
      "execution_count": null,
      "outputs": []
    },
    {
      "cell_type": "markdown",
      "source": [
        "You can remove multiple chromosomes at a time by using \\ | as a delimiter"
      ],
      "metadata": {
        "id": "3_Lc6HsEG0TK"
      }
    },
    {
      "cell_type": "code",
      "source": [
        "sed '/^SUPER_7\\|^SUPER_8\\|^SUPER_9\\|^SUPER_10\\|^SUPER_11\\|^SUPER_12\\|^SUPER_13\\|^SUPER_14\\|^SUPER_15\\|^SUPER_16\\|^SUPER_17\\|^SUPER_19\\|^SUPER_20\\|^SUPER_21\\|^SUPER_22\\|^SUPER_23\\|^SUPER_24\\|^SUPER_25\\|^SUPER_26\\|^SUPER_27\\|^SUPER_28\\|^SUPER_30\\|^SUPER_31\\|^SUPER_32\\|^SUPER_Z\\|^SUPER_W/d'"
      ],
      "metadata": {
        "id": "mTgllLvOHIFW"
      },
      "execution_count": null,
      "outputs": []
    }
  ]
}